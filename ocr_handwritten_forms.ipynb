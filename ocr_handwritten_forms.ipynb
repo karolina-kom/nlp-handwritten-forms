{
 "cells": [
  {
   "cell_type": "markdown",
   "metadata": {},
   "source": [
    "# OCR for Handwritten Forms"
   ]
  },
  {
   "cell_type": "code",
   "execution_count": 21,
   "metadata": {},
   "outputs": [],
   "source": [
    "import easyocr"
   ]
  },
  {
   "cell_type": "code",
   "execution_count": null,
   "metadata": {},
   "outputs": [],
   "source": [
    "# Apply OCR to extract handwritten text\n",
    "\n",
    "# Initialize reader object\n",
    "reader = easyocr.Reader(['en'])\n",
    "\n",
    "# Extract text from an image (replace 'image_path' with your image file)\n",
    "result = reader.readtext('images\\image_1.jpg', detail=0)\n",
    "\n",
    "# Join the extracted text into a single string\n",
    "extracted_text = '\\n'.join(result)\n",
    "\n",
    "print(extracted_text)  # Check the output"
   ]
  },
  {
   "cell_type": "code",
   "execution_count": null,
   "metadata": {},
   "outputs": [],
   "source": [
    "# Save the extracted text to a file\n",
    "with open('output_text.txt', 'w') as file:\n",
    "    file.write(extracted_text)\n",
    "\n",
    "print(\"Text saved to output_text.txt\")"
   ]
  },
  {
   "cell_type": "code",
   "execution_count": null,
   "metadata": {},
   "outputs": [],
   "source": [
    "import spacy\n",
    "\n",
    "# Load the English model\n",
    "nlp = spacy.load('en_core_web_sm')\n",
    "\n",
    "# Read the saved text file\n",
    "with open('output_text.txt', 'r') as file:\n",
    "    text = file.read()\n",
    "\n",
    "# Tokenize using spaCy\n",
    "doc = nlp(text)\n",
    "tokens = [token.text for token in doc]\n",
    "\n",
    "print(tokens)"
   ]
  }
 ],
 "metadata": {
  "kernelspec": {
   "display_name": "myenv",
   "language": "python",
   "name": "python3"
  },
  "language_info": {
   "codemirror_mode": {
    "name": "ipython",
    "version": 3
   },
   "file_extension": ".py",
   "mimetype": "text/x-python",
   "name": "python",
   "nbconvert_exporter": "python",
   "pygments_lexer": "ipython3",
   "version": "3.10.11"
  }
 },
 "nbformat": 4,
 "nbformat_minor": 2
}
