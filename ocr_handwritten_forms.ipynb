{
 "cells": [
  {
   "cell_type": "markdown",
   "metadata": {},
   "source": [
    "# OCR for Handwritten Forms"
   ]
  },
  {
   "cell_type": "code",
   "execution_count": 1,
   "metadata": {},
   "outputs": [],
   "source": [
    "# Select image to extract text from\n",
    "original_image = 'images/image_1.jpg'"
   ]
  },
  {
   "cell_type": "markdown",
   "metadata": {},
   "source": [
    "### Image Preprocessing"
   ]
  },
  {
   "cell_type": "code",
   "execution_count": null,
   "metadata": {},
   "outputs": [],
   "source": [
    "# Import OpenCV library\n",
    "import cv2\n",
    "\n",
    "# Load the image\n",
    "image = cv2.imread(original_image)\n",
    "\n",
    "# Convert to grayscale\n",
    "gray = cv2.cvtColor(image, cv2.COLOR_BGR2GRAY)\n",
    "\n",
    "# Apply adaptive thresholding\n",
    "thresh = cv2.adaptiveThreshold(gray, 255, cv2.ADAPTIVE_THRESH_GAUSSIAN_C,\n",
    "                               cv2.THRESH_BINARY, 11, 2)\n",
    "\n",
    "# Save the processed image (optional)\n",
    "processed_image = 'processed_images/processed_image_1.jpg'\n",
    "cv2.imwrite(processed_image, thresh)"
   ]
  },
  {
   "cell_type": "markdown",
   "metadata": {},
   "source": [
    "### Extract Text using EasyOCR library"
   ]
  },
  {
   "cell_type": "code",
   "execution_count": null,
   "metadata": {},
   "outputs": [],
   "source": [
    "# Import EasyOCR library\n",
    "import easyocr\n",
    "\n",
    "# Initialize reader object\n",
    "reader = easyocr.Reader(['en'])\n",
    "\n",
    "# Extract text from original image\n",
    "result = reader.readtext(original_image, detail=0)\n",
    "\n",
    "# Join the extracted text into a single string\n",
    "extracted_text = '\\n'.join(result)\n",
    "\n",
    "# Check output\n",
    "print(extracted_text)\n",
    "\n",
    "# Save the extracted text to a file\n",
    "output_text = 'output_text/easyocr_output_text_1.txt'\n",
    "with open(output_text, 'w') as file:\n",
    "    file.write(extracted_text)"
   ]
  },
  {
   "cell_type": "markdown",
   "metadata": {},
   "source": [
    "### Tokenize output"
   ]
  },
  {
   "cell_type": "code",
   "execution_count": null,
   "metadata": {},
   "outputs": [],
   "source": [
    "# Import SpaCy library\n",
    "import spacy\n",
    "\n",
    "# Load the English model\n",
    "nlp = spacy.load('en_core_web_sm')\n",
    "\n",
    "# Read the saved text file\n",
    "with open(output_text, 'r') as file:\n",
    "    text = file.read()\n",
    "\n",
    "# Tokenize using spaCy\n",
    "doc = nlp(text)\n",
    "tokens = [token.text for token in doc]\n",
    "\n",
    "print(tokens)"
   ]
  },
  {
   "cell_type": "markdown",
   "metadata": {},
   "source": [
    "### Extract text using Tesseract library"
   ]
  },
  {
   "cell_type": "code",
   "execution_count": null,
   "metadata": {},
   "outputs": [],
   "source": [
    "import pytesseract\n",
    "from PIL import Image\n",
    "\n",
    "# Open the image\n",
    "img = Image.open(original_image)\n",
    "\n",
    "custom_config = r'--psm 11'\n",
    "\n",
    "# Extract text with the specified page segmentation mode\n",
    "extracted_text = pytesseract.image_to_string(img, config=custom_config)\n",
    "\n",
    "# Print the extracted text\n",
    "print(extracted_text)\n",
    "\n",
    "# Save the extracted text to a file\n",
    "output_text = 'output_text/tesseract_output_text_1.txt'\n",
    "\n",
    "with open(output_text, 'w') as file:\n",
    "    file.write(extracted_text)"
   ]
  }
 ],
 "metadata": {
  "kernelspec": {
   "display_name": "myenv",
   "language": "python",
   "name": "python3"
  },
  "language_info": {
   "codemirror_mode": {
    "name": "ipython",
    "version": 3
   },
   "file_extension": ".py",
   "mimetype": "text/x-python",
   "name": "python",
   "nbconvert_exporter": "python",
   "pygments_lexer": "ipython3",
   "version": "3.10.11"
  }
 },
 "nbformat": 4,
 "nbformat_minor": 2
}
